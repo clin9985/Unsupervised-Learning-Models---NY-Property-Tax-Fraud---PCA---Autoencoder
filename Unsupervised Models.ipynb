{
 "cells": [
  {
   "cell_type": "code",
   "execution_count": 1,
   "id": "c3d570de",
   "metadata": {},
   "outputs": [
    {
     "name": "stdout",
     "output_type": "stream",
     "text": [
      "LOAD DURATION:  0:00:01.102459\n"
     ]
    }
   ],
   "source": [
    "from datetime import datetime\n",
    "start_time = datetime.now()\n",
    "\n",
    "# Libraries to install\n",
    "# %pip install pandas-profiling\n",
    "\n",
    "import pandas as pd\n",
    "import numpy as np\n",
    "import matplotlib.pyplot as plt\n",
    "import seaborn as sns\n",
    "%matplotlib inline\n",
    "\n",
    "print('LOAD DURATION: ', datetime.now() - start_time) # load time about 30 seconds"
   ]
  },
  {
   "cell_type": "markdown",
   "id": "51ee3896",
   "metadata": {},
   "source": [
    "# Load Data"
   ]
  },
  {
   "cell_type": "code",
   "execution_count": 2,
   "id": "f7eaa655",
   "metadata": {},
   "outputs": [
    {
     "name": "stdout",
     "output_type": "stream",
     "text": [
      "CPU times: user 1.41 s, sys: 150 ms, total: 1.56 s\n",
      "Wall time: 1.57 s\n"
     ]
    }
   ],
   "source": [
    "%%time\n",
    "data = pd.read_csv('NY property data.csv')\n",
    "NY_data_orig = data.copy()"
   ]
  },
  {
   "cell_type": "code",
   "execution_count": 3,
   "id": "b11d16c3",
   "metadata": {},
   "outputs": [
    {
     "data": {
      "text/plain": [
       "(1070994, 32)"
      ]
     },
     "execution_count": 3,
     "metadata": {},
     "output_type": "execute_result"
    }
   ],
   "source": [
    "data.shape"
   ]
  },
  {
   "cell_type": "code",
   "execution_count": 4,
   "id": "82213de1",
   "metadata": {},
   "outputs": [
    {
     "data": {
      "text/html": [
       "<div>\n",
       "<style scoped>\n",
       "    .dataframe tbody tr th:only-of-type {\n",
       "        vertical-align: middle;\n",
       "    }\n",
       "\n",
       "    .dataframe tbody tr th {\n",
       "        vertical-align: top;\n",
       "    }\n",
       "\n",
       "    .dataframe thead th {\n",
       "        text-align: right;\n",
       "    }\n",
       "</style>\n",
       "<table border=\"1\" class=\"dataframe\">\n",
       "  <thead>\n",
       "    <tr style=\"text-align: right;\">\n",
       "      <th></th>\n",
       "      <th>0</th>\n",
       "      <th>1</th>\n",
       "      <th>2</th>\n",
       "      <th>3</th>\n",
       "      <th>4</th>\n",
       "    </tr>\n",
       "  </thead>\n",
       "  <tbody>\n",
       "    <tr>\n",
       "      <th>RECORD</th>\n",
       "      <td>1</td>\n",
       "      <td>2</td>\n",
       "      <td>3</td>\n",
       "      <td>4</td>\n",
       "      <td>5</td>\n",
       "    </tr>\n",
       "    <tr>\n",
       "      <th>BBLE</th>\n",
       "      <td>1000010101</td>\n",
       "      <td>1000010201</td>\n",
       "      <td>1000020001</td>\n",
       "      <td>1000020023</td>\n",
       "      <td>1000030001</td>\n",
       "    </tr>\n",
       "    <tr>\n",
       "      <th>BORO</th>\n",
       "      <td>1</td>\n",
       "      <td>1</td>\n",
       "      <td>1</td>\n",
       "      <td>1</td>\n",
       "      <td>1</td>\n",
       "    </tr>\n",
       "    <tr>\n",
       "      <th>BLOCK</th>\n",
       "      <td>1</td>\n",
       "      <td>1</td>\n",
       "      <td>2</td>\n",
       "      <td>2</td>\n",
       "      <td>3</td>\n",
       "    </tr>\n",
       "    <tr>\n",
       "      <th>LOT</th>\n",
       "      <td>101</td>\n",
       "      <td>201</td>\n",
       "      <td>1</td>\n",
       "      <td>23</td>\n",
       "      <td>1</td>\n",
       "    </tr>\n",
       "    <tr>\n",
       "      <th>EASEMENT</th>\n",
       "      <td>NaN</td>\n",
       "      <td>NaN</td>\n",
       "      <td>NaN</td>\n",
       "      <td>NaN</td>\n",
       "      <td>NaN</td>\n",
       "    </tr>\n",
       "    <tr>\n",
       "      <th>OWNER</th>\n",
       "      <td>U S GOVT LAND &amp; BLDGS</td>\n",
       "      <td>U S GOVT LAND &amp; BLDGS</td>\n",
       "      <td>DEPT OF GENERAL SERVI</td>\n",
       "      <td>DEPARTMENT OF BUSINES</td>\n",
       "      <td>PARKS AND RECREATION</td>\n",
       "    </tr>\n",
       "    <tr>\n",
       "      <th>BLDGCL</th>\n",
       "      <td>P7</td>\n",
       "      <td>Z9</td>\n",
       "      <td>Y7</td>\n",
       "      <td>T2</td>\n",
       "      <td>Q1</td>\n",
       "    </tr>\n",
       "    <tr>\n",
       "      <th>TAXCLASS</th>\n",
       "      <td>4</td>\n",
       "      <td>4</td>\n",
       "      <td>4</td>\n",
       "      <td>4</td>\n",
       "      <td>4</td>\n",
       "    </tr>\n",
       "    <tr>\n",
       "      <th>LTFRONT</th>\n",
       "      <td>500</td>\n",
       "      <td>27</td>\n",
       "      <td>709</td>\n",
       "      <td>793</td>\n",
       "      <td>323</td>\n",
       "    </tr>\n",
       "    <tr>\n",
       "      <th>LTDEPTH</th>\n",
       "      <td>1046</td>\n",
       "      <td>0</td>\n",
       "      <td>564</td>\n",
       "      <td>551</td>\n",
       "      <td>1260</td>\n",
       "    </tr>\n",
       "    <tr>\n",
       "      <th>EXT</th>\n",
       "      <td>NaN</td>\n",
       "      <td>NaN</td>\n",
       "      <td>E</td>\n",
       "      <td>NaN</td>\n",
       "      <td>NaN</td>\n",
       "    </tr>\n",
       "    <tr>\n",
       "      <th>STORIES</th>\n",
       "      <td>NaN</td>\n",
       "      <td>NaN</td>\n",
       "      <td>3.0</td>\n",
       "      <td>2.0</td>\n",
       "      <td>1.0</td>\n",
       "    </tr>\n",
       "    <tr>\n",
       "      <th>FULLVAL</th>\n",
       "      <td>21400000.0</td>\n",
       "      <td>193800000.0</td>\n",
       "      <td>104686000.0</td>\n",
       "      <td>39200000.0</td>\n",
       "      <td>272300000.0</td>\n",
       "    </tr>\n",
       "    <tr>\n",
       "      <th>AVLAND</th>\n",
       "      <td>4225500.0</td>\n",
       "      <td>14310000.0</td>\n",
       "      <td>39008700.0</td>\n",
       "      <td>15255000.0</td>\n",
       "      <td>121050000.0</td>\n",
       "    </tr>\n",
       "    <tr>\n",
       "      <th>AVTOT</th>\n",
       "      <td>9630000.0</td>\n",
       "      <td>87210000.0</td>\n",
       "      <td>47108700.0</td>\n",
       "      <td>17640000.0</td>\n",
       "      <td>122535000.0</td>\n",
       "    </tr>\n",
       "    <tr>\n",
       "      <th>EXLAND</th>\n",
       "      <td>4225500.0</td>\n",
       "      <td>14310000.0</td>\n",
       "      <td>39008700.0</td>\n",
       "      <td>15255000.0</td>\n",
       "      <td>121050000.0</td>\n",
       "    </tr>\n",
       "    <tr>\n",
       "      <th>EXTOT</th>\n",
       "      <td>9630000.0</td>\n",
       "      <td>87210000.0</td>\n",
       "      <td>47108700.0</td>\n",
       "      <td>17640000.0</td>\n",
       "      <td>122535000.0</td>\n",
       "    </tr>\n",
       "    <tr>\n",
       "      <th>EXCD1</th>\n",
       "      <td>4600.0</td>\n",
       "      <td>4600.0</td>\n",
       "      <td>2191.0</td>\n",
       "      <td>2191.0</td>\n",
       "      <td>2231.0</td>\n",
       "    </tr>\n",
       "    <tr>\n",
       "      <th>STADDR</th>\n",
       "      <td>1 LIBERTY ISLAND</td>\n",
       "      <td>1 ELLIS ISLAND</td>\n",
       "      <td>MARGINAL STREET</td>\n",
       "      <td>PIER 6</td>\n",
       "      <td>BATTERY PARK</td>\n",
       "    </tr>\n",
       "    <tr>\n",
       "      <th>ZIP</th>\n",
       "      <td>10004.0</td>\n",
       "      <td>10004.0</td>\n",
       "      <td>10004.0</td>\n",
       "      <td>10004.0</td>\n",
       "      <td>10004.0</td>\n",
       "    </tr>\n",
       "    <tr>\n",
       "      <th>EXMPTCL</th>\n",
       "      <td>X3</td>\n",
       "      <td>X3</td>\n",
       "      <td>X1</td>\n",
       "      <td>X1</td>\n",
       "      <td>X1</td>\n",
       "    </tr>\n",
       "    <tr>\n",
       "      <th>BLDFRONT</th>\n",
       "      <td>0</td>\n",
       "      <td>0</td>\n",
       "      <td>709</td>\n",
       "      <td>85</td>\n",
       "      <td>89</td>\n",
       "    </tr>\n",
       "    <tr>\n",
       "      <th>BLDDEPTH</th>\n",
       "      <td>0</td>\n",
       "      <td>0</td>\n",
       "      <td>564</td>\n",
       "      <td>551</td>\n",
       "      <td>57</td>\n",
       "    </tr>\n",
       "    <tr>\n",
       "      <th>AVLAND2</th>\n",
       "      <td>3775500.0</td>\n",
       "      <td>11111400.0</td>\n",
       "      <td>32321790.0</td>\n",
       "      <td>13644000.0</td>\n",
       "      <td>106348680.0</td>\n",
       "    </tr>\n",
       "    <tr>\n",
       "      <th>AVTOT2</th>\n",
       "      <td>8613000.0</td>\n",
       "      <td>80690400.0</td>\n",
       "      <td>40179510.0</td>\n",
       "      <td>15750000.0</td>\n",
       "      <td>107758350.0</td>\n",
       "    </tr>\n",
       "    <tr>\n",
       "      <th>EXLAND2</th>\n",
       "      <td>3775500.0</td>\n",
       "      <td>11111400.0</td>\n",
       "      <td>32321790.0</td>\n",
       "      <td>13644000.0</td>\n",
       "      <td>106348680.0</td>\n",
       "    </tr>\n",
       "    <tr>\n",
       "      <th>EXTOT2</th>\n",
       "      <td>8613000.0</td>\n",
       "      <td>80690400.0</td>\n",
       "      <td>40179510.0</td>\n",
       "      <td>15750000.0</td>\n",
       "      <td>107758350.0</td>\n",
       "    </tr>\n",
       "    <tr>\n",
       "      <th>EXCD2</th>\n",
       "      <td>NaN</td>\n",
       "      <td>NaN</td>\n",
       "      <td>NaN</td>\n",
       "      <td>NaN</td>\n",
       "      <td>NaN</td>\n",
       "    </tr>\n",
       "    <tr>\n",
       "      <th>PERIOD</th>\n",
       "      <td>FINAL</td>\n",
       "      <td>FINAL</td>\n",
       "      <td>FINAL</td>\n",
       "      <td>FINAL</td>\n",
       "      <td>FINAL</td>\n",
       "    </tr>\n",
       "    <tr>\n",
       "      <th>YEAR</th>\n",
       "      <td>2010/11</td>\n",
       "      <td>2010/11</td>\n",
       "      <td>2010/11</td>\n",
       "      <td>2010/11</td>\n",
       "      <td>2010/11</td>\n",
       "    </tr>\n",
       "    <tr>\n",
       "      <th>VALTYPE</th>\n",
       "      <td>AC-TR</td>\n",
       "      <td>AC-TR</td>\n",
       "      <td>AC-TR</td>\n",
       "      <td>AC-TR</td>\n",
       "      <td>AC-TR</td>\n",
       "    </tr>\n",
       "  </tbody>\n",
       "</table>\n",
       "</div>"
      ],
      "text/plain": [
       "                              0                      1                      2  \\\n",
       "RECORD                        1                      2                      3   \n",
       "BBLE                 1000010101             1000010201             1000020001   \n",
       "BORO                          1                      1                      1   \n",
       "BLOCK                         1                      1                      2   \n",
       "LOT                         101                    201                      1   \n",
       "EASEMENT                    NaN                    NaN                    NaN   \n",
       "OWNER     U S GOVT LAND & BLDGS  U S GOVT LAND & BLDGS  DEPT OF GENERAL SERVI   \n",
       "BLDGCL                       P7                     Z9                     Y7   \n",
       "TAXCLASS                      4                      4                      4   \n",
       "LTFRONT                     500                     27                    709   \n",
       "LTDEPTH                    1046                      0                    564   \n",
       "EXT                         NaN                    NaN                      E   \n",
       "STORIES                     NaN                    NaN                    3.0   \n",
       "FULLVAL              21400000.0            193800000.0            104686000.0   \n",
       "AVLAND                4225500.0             14310000.0             39008700.0   \n",
       "AVTOT                 9630000.0             87210000.0             47108700.0   \n",
       "EXLAND                4225500.0             14310000.0             39008700.0   \n",
       "EXTOT                 9630000.0             87210000.0             47108700.0   \n",
       "EXCD1                    4600.0                 4600.0                 2191.0   \n",
       "STADDR         1 LIBERTY ISLAND         1 ELLIS ISLAND        MARGINAL STREET   \n",
       "ZIP                     10004.0                10004.0                10004.0   \n",
       "EXMPTCL                      X3                     X3                     X1   \n",
       "BLDFRONT                      0                      0                    709   \n",
       "BLDDEPTH                      0                      0                    564   \n",
       "AVLAND2               3775500.0             11111400.0             32321790.0   \n",
       "AVTOT2                8613000.0             80690400.0             40179510.0   \n",
       "EXLAND2               3775500.0             11111400.0             32321790.0   \n",
       "EXTOT2                8613000.0             80690400.0             40179510.0   \n",
       "EXCD2                       NaN                    NaN                    NaN   \n",
       "PERIOD                    FINAL                  FINAL                  FINAL   \n",
       "YEAR                    2010/11                2010/11                2010/11   \n",
       "VALTYPE                   AC-TR                  AC-TR                  AC-TR   \n",
       "\n",
       "                              3                     4  \n",
       "RECORD                        4                     5  \n",
       "BBLE                 1000020023            1000030001  \n",
       "BORO                          1                     1  \n",
       "BLOCK                         2                     3  \n",
       "LOT                          23                     1  \n",
       "EASEMENT                    NaN                   NaN  \n",
       "OWNER     DEPARTMENT OF BUSINES  PARKS AND RECREATION  \n",
       "BLDGCL                       T2                    Q1  \n",
       "TAXCLASS                      4                     4  \n",
       "LTFRONT                     793                   323  \n",
       "LTDEPTH                     551                  1260  \n",
       "EXT                         NaN                   NaN  \n",
       "STORIES                     2.0                   1.0  \n",
       "FULLVAL              39200000.0           272300000.0  \n",
       "AVLAND               15255000.0           121050000.0  \n",
       "AVTOT                17640000.0           122535000.0  \n",
       "EXLAND               15255000.0           121050000.0  \n",
       "EXTOT                17640000.0           122535000.0  \n",
       "EXCD1                    2191.0                2231.0  \n",
       "STADDR                   PIER 6          BATTERY PARK  \n",
       "ZIP                     10004.0               10004.0  \n",
       "EXMPTCL                      X1                    X1  \n",
       "BLDFRONT                     85                    89  \n",
       "BLDDEPTH                    551                    57  \n",
       "AVLAND2              13644000.0           106348680.0  \n",
       "AVTOT2               15750000.0           107758350.0  \n",
       "EXLAND2              13644000.0           106348680.0  \n",
       "EXTOT2               15750000.0           107758350.0  \n",
       "EXCD2                       NaN                   NaN  \n",
       "PERIOD                    FINAL                 FINAL  \n",
       "YEAR                    2010/11               2010/11  \n",
       "VALTYPE                   AC-TR                 AC-TR  "
      ]
     },
     "execution_count": 4,
     "metadata": {},
     "output_type": "execute_result"
    }
   ],
   "source": [
    "data.head().transpose()"
   ]
  },
  {
   "cell_type": "code",
   "execution_count": 6,
   "id": "c1321591",
   "metadata": {
    "scrolled": true
   },
   "outputs": [
    {
     "data": {
      "text/plain": [
       "RECORD        int64\n",
       "BBLE         object\n",
       "BORO          int64\n",
       "BLOCK         int64\n",
       "LOT           int64\n",
       "EASEMENT     object\n",
       "OWNER        object\n",
       "BLDGCL       object\n",
       "TAXCLASS     object\n",
       "LTFRONT       int64\n",
       "LTDEPTH       int64\n",
       "EXT          object\n",
       "STORIES     float64\n",
       "FULLVAL     float64\n",
       "AVLAND      float64\n",
       "AVTOT       float64\n",
       "EXLAND      float64\n",
       "EXTOT       float64\n",
       "EXCD1       float64\n",
       "STADDR       object\n",
       "ZIP         float64\n",
       "EXMPTCL      object\n",
       "BLDFRONT      int64\n",
       "BLDDEPTH      int64\n",
       "AVLAND2     float64\n",
       "AVTOT2      float64\n",
       "EXLAND2     float64\n",
       "EXTOT2      float64\n",
       "EXCD2       float64\n",
       "PERIOD       object\n",
       "YEAR         object\n",
       "VALTYPE      object\n",
       "dtype: object"
      ]
     },
     "execution_count": 6,
     "metadata": {},
     "output_type": "execute_result"
    }
   ],
   "source": [
    "data.dtypes"
   ]
  },
  {
   "cell_type": "markdown",
   "id": "253f01aa",
   "metadata": {},
   "source": [
    "# Data Wrangling"
   ]
  },
  {
   "cell_type": "code",
   "execution_count": 11,
   "id": "5b81cbe7",
   "metadata": {},
   "outputs": [
    {
     "data": {
      "text/plain": [
       "['PARKCHESTER PRESERVAT',\n",
       " 'PARKS AND RECREATION',\n",
       " 'DCAS',\n",
       " 'HOUSING PRESERVATION',\n",
       " 'CITY OF NEW YORK',\n",
       " 'DEPT OF ENVIRONMENTAL',\n",
       " 'BOARD OF EDUCATION',\n",
       " 'NEW YORK CITY HOUSING',\n",
       " 'CNY/NYCTA',\n",
       " 'NYC HOUSING PARTNERSH',\n",
       " 'YORKVILLE TOWERS ASSO',\n",
       " 'DEPARTMENT OF BUSINES',\n",
       " 'DEPT OF TRANSPORTATIO',\n",
       " 'MTA/LIRR',\n",
       " 'PARCKHESTER PRESERVAT',\n",
       " 'MH RESIDENTIAL 1, LLC',\n",
       " '434 M LLC',\n",
       " 'LINCOLN PLAZA ASSOCIA',\n",
       " 'DEUTSCHE BANK NATIONA',\n",
       " '561 11TH AVENUE TMG L']"
      ]
     },
     "execution_count": 11,
     "metadata": {},
     "output_type": "execute_result"
    }
   ],
   "source": [
    "# look at the top 20 owners, remove the public owner which are the benign owners\n",
    "remove_list=data[\"OWNER\"].value_counts().head(20).index.tolist()\n",
    "remove_list"
   ]
  },
  {
   "cell_type": "code",
   "execution_count": 12,
   "id": "51deb62a",
   "metadata": {},
   "outputs": [
    {
     "data": {
      "text/plain": [
       "['PARKCHESTER PRESERVAT',\n",
       " 'PARKS AND RECREATION',\n",
       " 'DCAS',\n",
       " 'HOUSING PRESERVATION',\n",
       " 'CITY OF NEW YORK',\n",
       " 'DEPT OF ENVIRONMENTAL',\n",
       " 'BOARD OF EDUCATION',\n",
       " 'NEW YORK CITY HOUSING',\n",
       " 'CNY/NYCTA',\n",
       " 'NYC HOUSING PARTNERSH',\n",
       " 'DEPARTMENT OF BUSINES',\n",
       " 'DEPT OF TRANSPORTATIO',\n",
       " 'MTA/LIRR',\n",
       " 'PARCKHESTER PRESERVAT',\n",
       " 'MH RESIDENTIAL 1, LLC',\n",
       " 'LINCOLN PLAZA ASSOCIA',\n",
       " 'UNITED STATES OF AMER',\n",
       " 'U S GOVERNMENT OWNRD',\n",
       " 'THE CITY OF NEW YORK',\n",
       " 'NYS URBAN DEVELOPMENT',\n",
       " 'NYS DEPT OF ENVIRONME',\n",
       " 'CULTURAL AFFAIRS',\n",
       " 'DEPT OF GENERAL SERVI',\n",
       " 'DEPT RE-CITY OF NY']"
      ]
     },
     "execution_count": 12,
     "metadata": {},
     "output_type": "execute_result"
    }
   ],
   "source": [
    "# public owner list check\n",
    "remove_list.remove ('YORKVILLE TOWERS ASSO')\n",
    "remove_list.remove ('434 M LLC')\n",
    "remove_list.remove ('DEUTSCHE BANK NATIONA')\n",
    "remove_list.remove ('561 11TH AVENUE TMG L')\n",
    "remove_list.append ( 'UNITED STATES OF AMER')\n",
    "remove_list.append('U S GOVERNMENT OWNRD')\n",
    "remove_list.append ('THE CITY OF NEW YORK')\n",
    "remove_list.append ('NYS URBAN DEVELOPMENT' )\n",
    "remove_list.append ('NYS DEPT OF ENVIRONME')\n",
    "remove_list.append ('CULTURAL AFFAIRS' )\n",
    "remove_list.append ('DEPT OF GENERAL SERVI')\n",
    "remove_list.append ('DEPT RE-CITY OF NY')\n",
    "remove_list"
   ]
  },
  {
   "cell_type": "code",
   "execution_count": 13,
   "id": "7f02a710",
   "metadata": {},
   "outputs": [
    {
     "data": {
      "text/plain": [
       "(1046826, 32)"
      ]
     },
     "execution_count": 13,
     "metadata": {},
     "output_type": "execute_result"
    }
   ],
   "source": [
    "# removie the public owner\n",
    "property_data=data[~data[\"OWNER\"].isin(remove_list)].reset_index(drop=True)\n",
    "property_data.shape"
   ]
  },
  {
   "cell_type": "code",
   "execution_count": 14,
   "id": "33112060",
   "metadata": {},
   "outputs": [
    {
     "data": {
      "text/plain": [
       "(1070994, 32)"
      ]
     },
     "execution_count": 14,
     "metadata": {},
     "output_type": "execute_result"
    }
   ],
   "source": [
    "data.shape"
   ]
  },
  {
   "cell_type": "code",
   "execution_count": 15,
   "id": "89a1f845",
   "metadata": {},
   "outputs": [
    {
     "data": {
      "text/plain": [
       "24168"
      ]
     },
     "execution_count": 15,
     "metadata": {},
     "output_type": "execute_result"
    }
   ],
   "source": [
    "len(data)-len(property_data)"
   ]
  },
  {
   "cell_type": "code",
   "execution_count": 16,
   "id": "11753444",
   "metadata": {},
   "outputs": [
    {
     "data": {
      "text/plain": [
       "21772"
      ]
     },
     "execution_count": 16,
     "metadata": {},
     "output_type": "execute_result"
    }
   ],
   "source": [
    "#ZIP\n",
    "# replace nan with 0\n",
    "missing_zips=np.where(pd.isnull(property_data['ZIP']))[0]\n",
    "len(missing_zips)"
   ]
  },
  {
   "cell_type": "code",
   "execution_count": 17,
   "id": "2c0fb731",
   "metadata": {},
   "outputs": [],
   "source": [
    "# I noticed the zip is logged in ascending order. If before and after the zip are the same, fill with that value\n",
    "for i in range(len(missing_zips)):\n",
    "    if(property_data.loc[missing_zips[i]+1,'ZIP'] == property_data.loc[missing_zips[i]-1,'ZIP']):\n",
    "        property_data.loc[missing_zips[i],'ZIP'] = property_data.loc[missing_zips[i]-1,'ZIP']"
   ]
  },
  {
   "cell_type": "code",
   "execution_count": 18,
   "id": "7cb32be5",
   "metadata": {},
   "outputs": [
    {
     "data": {
      "text/plain": [
       "10245"
      ]
     },
     "execution_count": 18,
     "metadata": {},
     "output_type": "execute_result"
    }
   ],
   "source": [
    "missing_zips = np.where(pd.isnull(property_data['ZIP']))[0]\n",
    "len(missing_zips)"
   ]
  },
  {
   "cell_type": "code",
   "execution_count": 19,
   "id": "c583ed1b",
   "metadata": {},
   "outputs": [],
   "source": [
    "# for remaining, fill in with the previous record's zip\n",
    "for i in range(len(missing_zips)):\n",
    "    property_data.loc[missing_zips[i],'ZIP']=property_data.loc[missing_zips[i]-1,'ZIP']"
   ]
  },
  {
   "cell_type": "code",
   "execution_count": 20,
   "id": "75b3f4a7",
   "metadata": {},
   "outputs": [
    {
     "data": {
      "text/plain": [
       "43968"
      ]
     },
     "execution_count": 20,
     "metadata": {},
     "output_type": "execute_result"
    }
   ],
   "source": [
    "#STORIES\n",
    "temp = property_data[property_data['STORIES'].isnull()]\n",
    "len(temp)"
   ]
  },
  {
   "cell_type": "code",
   "execution_count": 21,
   "id": "46604f30",
   "metadata": {},
   "outputs": [
    {
     "data": {
      "text/plain": [
       "1B    19055\n",
       "4     17979\n",
       "2      3434\n",
       "3      2416\n",
       "1       877\n",
       "2C      138\n",
       "2B       34\n",
       "2A       30\n",
       "1A        5\n",
       "Name: TAXCLASS, dtype: int64"
      ]
     },
     "execution_count": 21,
     "metadata": {},
     "output_type": "execute_result"
    }
   ],
   "source": [
    "temp['TAXCLASS'].value_counts()"
   ]
  },
  {
   "cell_type": "code",
   "execution_count": 22,
   "id": "34cdb195",
   "metadata": {},
   "outputs": [
    {
     "data": {
      "text/plain": [
       "TAXCLASS\n",
       "1      2.111633\n",
       "1A     1.656867\n",
       "1B     4.000000\n",
       "1C     3.052748\n",
       "1D     1.068966\n",
       "2     16.310549\n",
       "2A     2.844032\n",
       "2B     4.001635\n",
       "2C     4.744977\n",
       "3      1.000000\n",
       "4      5.517257\n",
       "Name: STORIES, dtype: float64"
      ]
     },
     "execution_count": 22,
     "metadata": {},
     "output_type": "execute_result"
    }
   ],
   "source": [
    "mean_stories=property_data.groupby('TAXCLASS')['STORIES'].mean()\n",
    "mean_stories"
   ]
  },
  {
   "cell_type": "code",
   "execution_count": 23,
   "id": "5f602238",
   "metadata": {},
   "outputs": [],
   "source": [
    "property_data['STORIES']=property_data['STORIES'].fillna(value=0)\n",
    "for index in mean_stories.index:\n",
    "    property_data.loc[(property_data['STORIES']==0)&(property_data['TAXCLASS']==index),'STORIES']=mean_stories[index]"
   ]
  },
  {
   "cell_type": "code",
   "execution_count": 24,
   "id": "7c38d9b1",
   "metadata": {},
   "outputs": [
    {
     "data": {
      "text/plain": [
       "TAXCLASS\n",
       "1     5.700059e+05\n",
       "1A    3.352942e+05\n",
       "1B    3.738399e+05\n",
       "1C    7.615359e+05\n",
       "1D    2.233614e+07\n",
       "2     8.005832e+05\n",
       "2A    8.639066e+05\n",
       "2B    1.254525e+06\n",
       "2C    7.723493e+05\n",
       "3     8.510005e+04\n",
       "4     2.772747e+06\n",
       "Name: FULLVAL, dtype: float64"
      ]
     },
     "execution_count": 24,
     "metadata": {},
     "output_type": "execute_result"
    }
   ],
   "source": [
    "#FULLVAL, AVLAND,AVTOT\n",
    "property_data['FULLVAL'].replace('NaN',0)\n",
    "temp = property_data[property_data['FULLVAL']!=0]\n",
    "mean_fullval=temp.groupby('TAXCLASS')['FULLVAL'].mean()\n",
    "mean_fullval"
   ]
  },
  {
   "cell_type": "code",
   "execution_count": 25,
   "id": "2426c28f",
   "metadata": {},
   "outputs": [
    {
     "data": {
      "text/plain": [
       "TAXCLASS\n",
       "1      14901.860425\n",
       "1A      2247.472465\n",
       "1B      9185.394750\n",
       "1C      8225.658898\n",
       "1D    709303.793103\n",
       "2      88471.102578\n",
       "2A     31370.740197\n",
       "2B     54607.394911\n",
       "2C     25635.944099\n",
       "3      28135.636364\n",
       "4     444996.049088\n",
       "Name: AVLAND, dtype: float64"
      ]
     },
     "execution_count": 25,
     "metadata": {},
     "output_type": "execute_result"
    }
   ],
   "source": [
    "property_data['AVLAND'].replace('NaN',0)\n",
    "temp_avland = property_data[property_data['AVLAND']!=0]\n",
    "mean_avland=temp_avland.groupby('TAXCLASS')['AVLAND'].mean()\n",
    "mean_avland"
   ]
  },
  {
   "cell_type": "code",
   "execution_count": 26,
   "id": "a39ae031",
   "metadata": {},
   "outputs": [
    {
     "data": {
      "text/plain": [
       "TAXCLASS\n",
       "1     2.502549e+04\n",
       "1A    1.437036e+04\n",
       "1B    9.189080e+03\n",
       "1C    2.898447e+04\n",
       "1D    1.166866e+06\n",
       "2     3.602638e+05\n",
       "2A    7.963525e+04\n",
       "2B    1.790961e+05\n",
       "2C    1.170418e+05\n",
       "3     3.829505e+04\n",
       "4     1.294237e+06\n",
       "Name: AVTOT, dtype: float64"
      ]
     },
     "execution_count": 26,
     "metadata": {},
     "output_type": "execute_result"
    }
   ],
   "source": [
    "property_data['AVTOT'].replace('NaN',0)\n",
    "temp_avtot = property_data[property_data['AVTOT']!=0]\n",
    "mean_avtot=temp_avtot.groupby('TAXCLASS')['AVTOT'].mean()\n",
    "mean_avtot"
   ]
  },
  {
   "cell_type": "code",
   "execution_count": 27,
   "id": "386d29af",
   "metadata": {},
   "outputs": [
    {
     "name": "stdout",
     "output_type": "stream",
     "text": [
      "CPU times: user 997 ms, sys: 12.5 ms, total: 1.01 s\n",
      "Wall time: 941 ms\n"
     ]
    }
   ],
   "source": [
    "%%time\n",
    "for index in mean_fullval.index:\n",
    "    property_data.loc[ (property_data[ 'FULLVAL' ]==0 )& (property_data['TAXCLASS' ]==index) , 'FULLVAL' ]=mean_fullval[index]\n",
    "    property_data.loc[ (property_data['AVLAND' ]==0)& (property_data['TAXCLASS' ]==index), 'AVLAND' ]=mean_avland[index]\n",
    "    property_data.loc[ (property_data[ 'AVTOT' ]==0)& (property_data[ 'TAXCLASS' ]==index), 'AVTOT' ]=mean_avtot[index]"
   ]
  },
  {
   "cell_type": "code",
   "execution_count": 28,
   "id": "87084b29",
   "metadata": {},
   "outputs": [],
   "source": [
    "# Because these 4 fields do not have NAs, we just need to replace Os and the 1s.\n",
    "# We think zero and 1 are both invalid values for these fields, so replace them with NA.\n",
    "# Calculate groupwise average. Replace O and 1's by NAs so they are not counted in calculating mean.\n",
    "property_data.loc[property_data['LTFRONT']==0,'LTFRONT']=np.nan\n",
    "property_data.loc[property_data['LTDEPTH']==0, 'LTDEPTH']=np.nan\n",
    "property_data.loc[property_data['BLDFRONT']==0,'BLDFRONT']=np.nan\n",
    "property_data.loc[property_data['BLDDEPTH']==0,'BLDDEPTH']=np.nan\n",
    "property_data.loc[property_data['LTFRONT']==1,'LTFRONT']=np.nan\n",
    "property_data.loc[property_data['LTDEPTH']==1,'LTDEPTH']=np.nan\n",
    "property_data.loc[property_data['BLDFRONT']==1,'BLDFRONT']=np.nan\n",
    "property_data.loc[property_data['BLDDEPTH']==1,'BLDDEPTH']=np.nan\n",
    "                  \n",
    "mean_LTFRONT=property_data.groupby(property_data['TAXCLASS'])['LTFRONT'].mean()\n",
    "mean_LTDEPTH=property_data.groupby(property_data['TAXCLASS'])['LTDEPTH'].mean()\n",
    "mean_BLDFRONT=property_data.groupby(property_data['TAXCLASS'])['BLDFRONT'].mean()\n",
    "mean_BLDDEPTH=property_data.groupby(property_data['TAXCLASS'])['BLDDEPTH'].mean()\n",
    "\n",
    "for index in mean_LTFRONT.index:\n",
    "    property_data.loc[(property_data['LTFRONT'].isnull())&(property_data['TAXCLASS']==index),'LTFRONT']=mean_LTFRONT[index]\n",
    "    property_data.loc[(property_data['LTDEPTH'].isnull())&(property_data['TAXCLASS']==index),'LTDEPTH']=mean_LTDEPTH[index]\n",
    "    property_data.loc[(property_data['BLDFRONT'].isnull())&(property_data['TAXCLASS']==index), 'BLDFRONT']=mean_BLDFRONT[index]\n",
    "    property_data.loc[(property_data['BLDDEPTH'].isnull()) & (property_data['TAXCLASS']==index), 'BLDDEPTH']=mean_BLDDEPTH[index]"
   ]
  },
  {
   "cell_type": "code",
   "execution_count": 29,
   "id": "9cd4eee1",
   "metadata": {},
   "outputs": [
    {
     "data": {
      "text/plain": [
       "(1046826, 32)"
      ]
     },
     "execution_count": 29,
     "metadata": {},
     "output_type": "execute_result"
    }
   ],
   "source": [
    "data=property_data.copy()\n",
    "data.shape"
   ]
  },
  {
   "cell_type": "code",
   "execution_count": 30,
   "id": "2c1437ea",
   "metadata": {},
   "outputs": [],
   "source": [
    "data['ZIP']=data['ZIP'].astype(str)\n",
    "data['zip3']=data['ZIP'].str[:3]"
   ]
  },
  {
   "cell_type": "markdown",
   "id": "c3b04b4e",
   "metadata": {},
   "source": [
    "# Build variables"
   ]
  },
  {
   "cell_type": "code",
   "execution_count": 31,
   "id": "c9f8231b",
   "metadata": {},
   "outputs": [],
   "source": [
    "data['ltsize']=data['LTFRONT']*data['LTDEPTH']\n",
    "data['bldsize']=data['BLDFRONT']*data['BLDDEPTH']\n",
    "data['bldvol']=data['bldsize']*data['STORIES']"
   ]
  },
  {
   "cell_type": "code",
   "execution_count": 32,
   "id": "952ebf30",
   "metadata": {},
   "outputs": [],
   "source": [
    "#normalize the value by size\n",
    "data['r1']= data['FULLVAL'] / data['ltsize']\n",
    "data['r2']= data['FULLVAL'] /data['bldsize']\n",
    "data['r3']= data['FULLVAL'] / data['bldvol']\n",
    "data['r4']= data['AVLAND'] / data['ltsize']\n",
    "data['r5']= data['AVLAND']/ data['bldsize']\n",
    "data['r6']= data['AVLAND']/ data['bldvol']\n",
    "data['r7']= data['AVTOT']/ data['ltsize']\n",
    "data['r8']= data['AVTOT']/data['bldsize']\n",
    "data['r9']= data['AVTOT'] / data['bldvol']"
   ]
  },
  {
   "cell_type": "code",
   "execution_count": 33,
   "id": "3fb42c45",
   "metadata": {},
   "outputs": [],
   "source": [
    "# add in the inverse of all the 9 primary variables, to find both very high and very low value\n",
    "for col in data.columns[36:]:\n",
    "    data[col+'inv'] = 1/(data[col])"
   ]
  },
  {
   "cell_type": "code",
   "execution_count": 34,
   "id": "082ded7a",
   "metadata": {},
   "outputs": [],
   "source": [
    "vars18 = ['r1','r2','r3','r4','r5','r6','r7','r8','r9',\n",
    "          'r1inv','r2inv','r3inv','r4inv','r5inv','r6inv','r7inv','r8inv','r9inv']\n",
    "zip5_mean = data.groupby('ZIP')[vars18].mean()\n",
    "zip3_mean = data.groupby('zip3')[vars18].mean()\n",
    "taxclass_mean = data.groupby('TAXCLASS')[vars18].mean()\n",
    "borough_mean = data.groupby('BORO')[vars18].mean()\n",
    "data = data.join(zip5_mean, on='ZIP', rsuffix='_zip5')\n",
    "data = data.join(zip3_mean, on='zip3', rsuffix='_zip3')\n",
    "data = data.join(taxclass_mean, on='TAXCLASS', rsuffix='_taxclass')\n",
    "data = data.join(borough_mean, on='BORO', rsuffix='_boro')\n",
    "rsuffix = ['_zip5', '_zip3', '_taxclass', '_boro']\n",
    "for var in vars18:\n",
    "    for r in rsuffix:\n",
    "        data[str(var)+r] = data[var] / data[str(var)+r]"
   ]
  },
  {
   "cell_type": "code",
   "execution_count": 35,
   "id": "b9c46508",
   "metadata": {},
   "outputs": [
    {
     "data": {
      "text/html": [
       "<div>\n",
       "<style scoped>\n",
       "    .dataframe tbody tr th:only-of-type {\n",
       "        vertical-align: middle;\n",
       "    }\n",
       "\n",
       "    .dataframe tbody tr th {\n",
       "        vertical-align: top;\n",
       "    }\n",
       "\n",
       "    .dataframe thead th {\n",
       "        text-align: right;\n",
       "    }\n",
       "</style>\n",
       "<table border=\"1\" class=\"dataframe\">\n",
       "  <thead>\n",
       "    <tr style=\"text-align: right;\">\n",
       "      <th></th>\n",
       "      <th>0</th>\n",
       "      <th>1</th>\n",
       "      <th>2</th>\n",
       "      <th>3</th>\n",
       "      <th>4</th>\n",
       "    </tr>\n",
       "  </thead>\n",
       "  <tbody>\n",
       "    <tr>\n",
       "      <th>RECORD</th>\n",
       "      <td>1</td>\n",
       "      <td>2</td>\n",
       "      <td>9</td>\n",
       "      <td>10</td>\n",
       "      <td>11</td>\n",
       "    </tr>\n",
       "    <tr>\n",
       "      <th>BBLE</th>\n",
       "      <td>1000010101</td>\n",
       "      <td>1000010201</td>\n",
       "      <td>1000041001</td>\n",
       "      <td>1000041002</td>\n",
       "      <td>1000041003</td>\n",
       "    </tr>\n",
       "    <tr>\n",
       "      <th>BORO</th>\n",
       "      <td>1</td>\n",
       "      <td>1</td>\n",
       "      <td>1</td>\n",
       "      <td>1</td>\n",
       "      <td>1</td>\n",
       "    </tr>\n",
       "    <tr>\n",
       "      <th>BLOCK</th>\n",
       "      <td>1</td>\n",
       "      <td>1</td>\n",
       "      <td>4</td>\n",
       "      <td>4</td>\n",
       "      <td>4</td>\n",
       "    </tr>\n",
       "    <tr>\n",
       "      <th>LOT</th>\n",
       "      <td>101</td>\n",
       "      <td>201</td>\n",
       "      <td>1001</td>\n",
       "      <td>1002</td>\n",
       "      <td>1003</td>\n",
       "    </tr>\n",
       "    <tr>\n",
       "      <th>...</th>\n",
       "      <td>...</td>\n",
       "      <td>...</td>\n",
       "      <td>...</td>\n",
       "      <td>...</td>\n",
       "      <td>...</td>\n",
       "    </tr>\n",
       "    <tr>\n",
       "      <th>r5inv_boro</th>\n",
       "      <td>0.000569</td>\n",
       "      <td>0.000168</td>\n",
       "      <td>0.003782</td>\n",
       "      <td>0.002617</td>\n",
       "      <td>0.002487</td>\n",
       "    </tr>\n",
       "    <tr>\n",
       "      <th>r6inv_boro</th>\n",
       "      <td>0.000147</td>\n",
       "      <td>0.000043</td>\n",
       "      <td>0.00883</td>\n",
       "      <td>0.00611</td>\n",
       "      <td>0.005805</td>\n",
       "    </tr>\n",
       "    <tr>\n",
       "      <th>r7inv_boro</th>\n",
       "      <td>0.106805</td>\n",
       "      <td>0.000076</td>\n",
       "      <td>0.011346</td>\n",
       "      <td>0.007851</td>\n",
       "      <td>0.004222</td>\n",
       "    </tr>\n",
       "    <tr>\n",
       "      <th>r8inv_boro</th>\n",
       "      <td>0.001731</td>\n",
       "      <td>0.000191</td>\n",
       "      <td>0.009388</td>\n",
       "      <td>0.006496</td>\n",
       "      <td>0.003494</td>\n",
       "    </tr>\n",
       "    <tr>\n",
       "      <th>r9inv_boro</th>\n",
       "      <td>0.000459</td>\n",
       "      <td>0.000051</td>\n",
       "      <td>0.022555</td>\n",
       "      <td>0.015607</td>\n",
       "      <td>0.008394</td>\n",
       "    </tr>\n",
       "  </tbody>\n",
       "</table>\n",
       "<p>126 rows × 5 columns</p>\n",
       "</div>"
      ],
      "text/plain": [
       "                     0           1           2           3           4\n",
       "RECORD               1           2           9          10          11\n",
       "BBLE        1000010101  1000010201  1000041001  1000041002  1000041003\n",
       "BORO                 1           1           1           1           1\n",
       "BLOCK                1           1           4           4           4\n",
       "LOT                101         201        1001        1002        1003\n",
       "...                ...         ...         ...         ...         ...\n",
       "r5inv_boro    0.000569    0.000168    0.003782    0.002617    0.002487\n",
       "r6inv_boro    0.000147    0.000043     0.00883     0.00611    0.005805\n",
       "r7inv_boro    0.106805    0.000076    0.011346    0.007851    0.004222\n",
       "r8inv_boro    0.001731    0.000191    0.009388    0.006496    0.003494\n",
       "r9inv_boro    0.000459    0.000051    0.022555    0.015607    0.008394\n",
       "\n",
       "[126 rows x 5 columns]"
      ]
     },
     "execution_count": 35,
     "metadata": {},
     "output_type": "execute_result"
    }
   ],
   "source": [
    "data.head().transpose()"
   ]
  },
  {
   "cell_type": "code",
   "execution_count": 36,
   "id": "2203789b",
   "metadata": {},
   "outputs": [
    {
     "data": {
      "text/plain": [
       "0     1\n",
       "1     2\n",
       "2     9\n",
       "3    10\n",
       "4    11\n",
       "Name: RECORD, dtype: int64"
      ]
     },
     "execution_count": 36,
     "metadata": {},
     "output_type": "execute_result"
    }
   ],
   "source": [
    "save_record = data['RECORD']\n",
    "save_record.head()"
   ]
  },
  {
   "cell_type": "code",
   "execution_count": 37,
   "id": "2f05cf88",
   "metadata": {},
   "outputs": [],
   "source": [
    "data=data.drop(['RECORD','BBLE','BORO','BLOCK','LOT','EASEMENT','OWNER','BLDGCL','TAXCLASS','LTFRONT',\n",
    "         'LTDEPTH','EXT','STORIES','FULLVAL','AVLAND','AVTOT','EXLAND','EXTOT','EXCD1','STADDR',\n",
    "          'ZIP','EXMPTCL','BLDFRONT','BLDDEPTH','AVLAND2','AVTOT2','EXLAND2','EXTOT2','EXCD2','PERIOD',\n",
    "          'YEAR','VALTYPE','zip3','ltsize','bldsize','bldvol'], axis=1)"
   ]
  },
  {
   "cell_type": "code",
   "execution_count": 38,
   "id": "38a7065a",
   "metadata": {},
   "outputs": [],
   "source": [
    "stats = data.describe().transpose()"
   ]
  },
  {
   "cell_type": "code",
   "execution_count": 39,
   "id": "c52e784f",
   "metadata": {},
   "outputs": [
    {
     "data": {
      "text/html": [
       "<div>\n",
       "<style scoped>\n",
       "    .dataframe tbody tr th:only-of-type {\n",
       "        vertical-align: middle;\n",
       "    }\n",
       "\n",
       "    .dataframe tbody tr th {\n",
       "        vertical-align: top;\n",
       "    }\n",
       "\n",
       "    .dataframe thead th {\n",
       "        text-align: right;\n",
       "    }\n",
       "</style>\n",
       "<table border=\"1\" class=\"dataframe\">\n",
       "  <thead>\n",
       "    <tr style=\"text-align: right;\">\n",
       "      <th></th>\n",
       "      <th>count</th>\n",
       "      <th>mean</th>\n",
       "      <th>std</th>\n",
       "      <th>min</th>\n",
       "      <th>25%</th>\n",
       "      <th>50%</th>\n",
       "      <th>75%</th>\n",
       "      <th>max</th>\n",
       "    </tr>\n",
       "  </thead>\n",
       "  <tbody>\n",
       "    <tr>\n",
       "      <th>r1</th>\n",
       "      <td>1046826</td>\n",
       "      <td>213.57</td>\n",
       "      <td>532.56</td>\n",
       "      <td>0.0</td>\n",
       "      <td>76.26</td>\n",
       "      <td>152.86</td>\n",
       "      <td>243.18</td>\n",
       "      <td>138637.34</td>\n",
       "    </tr>\n",
       "    <tr>\n",
       "      <th>r2</th>\n",
       "      <td>1046826</td>\n",
       "      <td>536.42</td>\n",
       "      <td>1027.44</td>\n",
       "      <td>0.0</td>\n",
       "      <td>211.82</td>\n",
       "      <td>500.00</td>\n",
       "      <td>683.82</td>\n",
       "      <td>310551.57</td>\n",
       "    </tr>\n",
       "    <tr>\n",
       "      <th>r3</th>\n",
       "      <td>1046826</td>\n",
       "      <td>244.08</td>\n",
       "      <td>498.82</td>\n",
       "      <td>0.0</td>\n",
       "      <td>82.50</td>\n",
       "      <td>239.06</td>\n",
       "      <td>336.23</td>\n",
       "      <td>227500.00</td>\n",
       "    </tr>\n",
       "    <tr>\n",
       "      <th>r4</th>\n",
       "      <td>1046826</td>\n",
       "      <td>10.46</td>\n",
       "      <td>69.98</td>\n",
       "      <td>0.0</td>\n",
       "      <td>2.35</td>\n",
       "      <td>4.60</td>\n",
       "      <td>7.23</td>\n",
       "      <td>22249.80</td>\n",
       "    </tr>\n",
       "    <tr>\n",
       "      <th>r5</th>\n",
       "      <td>1046826</td>\n",
       "      <td>22.82</td>\n",
       "      <td>378.51</td>\n",
       "      <td>0.0</td>\n",
       "      <td>6.20</td>\n",
       "      <td>14.98</td>\n",
       "      <td>20.29</td>\n",
       "      <td>334636.37</td>\n",
       "    </tr>\n",
       "    <tr>\n",
       "      <th>...</th>\n",
       "      <td>...</td>\n",
       "      <td>...</td>\n",
       "      <td>...</td>\n",
       "      <td>...</td>\n",
       "      <td>...</td>\n",
       "      <td>...</td>\n",
       "      <td>...</td>\n",
       "      <td>...</td>\n",
       "    </tr>\n",
       "    <tr>\n",
       "      <th>r5inv_boro</th>\n",
       "      <td>1046826</td>\n",
       "      <td>1.00</td>\n",
       "      <td>19.59</td>\n",
       "      <td>0.0</td>\n",
       "      <td>0.06</td>\n",
       "      <td>0.08</td>\n",
       "      <td>0.15</td>\n",
       "      <td>3428.86</td>\n",
       "    </tr>\n",
       "    <tr>\n",
       "      <th>r6inv_boro</th>\n",
       "      <td>1046826</td>\n",
       "      <td>1.00</td>\n",
       "      <td>29.41</td>\n",
       "      <td>0.0</td>\n",
       "      <td>0.01</td>\n",
       "      <td>0.02</td>\n",
       "      <td>0.05</td>\n",
       "      <td>3095.58</td>\n",
       "    </tr>\n",
       "    <tr>\n",
       "      <th>r7inv_boro</th>\n",
       "      <td>1046826</td>\n",
       "      <td>1.00</td>\n",
       "      <td>62.65</td>\n",
       "      <td>0.0</td>\n",
       "      <td>0.15</td>\n",
       "      <td>0.30</td>\n",
       "      <td>0.49</td>\n",
       "      <td>59181.76</td>\n",
       "    </tr>\n",
       "    <tr>\n",
       "      <th>r8inv_boro</th>\n",
       "      <td>1046826</td>\n",
       "      <td>1.00</td>\n",
       "      <td>24.76</td>\n",
       "      <td>0.0</td>\n",
       "      <td>0.08</td>\n",
       "      <td>0.13</td>\n",
       "      <td>0.21</td>\n",
       "      <td>13797.16</td>\n",
       "    </tr>\n",
       "    <tr>\n",
       "      <th>r9inv_boro</th>\n",
       "      <td>1046826</td>\n",
       "      <td>1.00</td>\n",
       "      <td>21.61</td>\n",
       "      <td>0.0</td>\n",
       "      <td>0.03</td>\n",
       "      <td>0.05</td>\n",
       "      <td>0.09</td>\n",
       "      <td>10301.68</td>\n",
       "    </tr>\n",
       "  </tbody>\n",
       "</table>\n",
       "<p>90 rows × 8 columns</p>\n",
       "</div>"
      ],
      "text/plain": [
       "              count    mean      std  min     25%     50%     75%        max\n",
       "r1          1046826  213.57   532.56  0.0   76.26  152.86  243.18  138637.34\n",
       "r2          1046826  536.42  1027.44  0.0  211.82  500.00  683.82  310551.57\n",
       "r3          1046826  244.08   498.82  0.0   82.50  239.06  336.23  227500.00\n",
       "r4          1046826   10.46    69.98  0.0    2.35    4.60    7.23   22249.80\n",
       "r5          1046826   22.82   378.51  0.0    6.20   14.98   20.29  334636.37\n",
       "...             ...     ...      ...  ...     ...     ...     ...        ...\n",
       "r5inv_boro  1046826    1.00    19.59  0.0    0.06    0.08    0.15    3428.86\n",
       "r6inv_boro  1046826    1.00    29.41  0.0    0.01    0.02    0.05    3095.58\n",
       "r7inv_boro  1046826    1.00    62.65  0.0    0.15    0.30    0.49   59181.76\n",
       "r8inv_boro  1046826    1.00    24.76  0.0    0.08    0.13    0.21   13797.16\n",
       "r9inv_boro  1046826    1.00    21.61  0.0    0.03    0.05    0.09   10301.68\n",
       "\n",
       "[90 rows x 8 columns]"
      ]
     },
     "execution_count": 39,
     "metadata": {},
     "output_type": "execute_result"
    }
   ],
   "source": [
    "for i in stats:\n",
    "    stats[i]=round(stats[i], 2)\n",
    "stats['count']=stats['count'].astype(int)\n",
    "stats"
   ]
  },
  {
   "cell_type": "code",
   "execution_count": 40,
   "id": "38df7c26",
   "metadata": {},
   "outputs": [],
   "source": [
    "from sklearn.decomposition import PCA"
   ]
  },
  {
   "cell_type": "code",
   "execution_count": 41,
   "id": "fb4b768d",
   "metadata": {},
   "outputs": [
    {
     "data": {
      "text/html": [
       "<div>\n",
       "<style scoped>\n",
       "    .dataframe tbody tr th:only-of-type {\n",
       "        vertical-align: middle;\n",
       "    }\n",
       "\n",
       "    .dataframe tbody tr th {\n",
       "        vertical-align: top;\n",
       "    }\n",
       "\n",
       "    .dataframe thead th {\n",
       "        text-align: right;\n",
       "    }\n",
       "</style>\n",
       "<table border=\"1\" class=\"dataframe\">\n",
       "  <thead>\n",
       "    <tr style=\"text-align: right;\">\n",
       "      <th></th>\n",
       "      <th>r1</th>\n",
       "      <th>r2</th>\n",
       "      <th>r3</th>\n",
       "      <th>r4</th>\n",
       "      <th>r5</th>\n",
       "      <th>r6</th>\n",
       "      <th>r7</th>\n",
       "      <th>r8</th>\n",
       "      <th>r9</th>\n",
       "      <th>r1inv</th>\n",
       "      <th>...</th>\n",
       "      <th>r9_boro</th>\n",
       "      <th>r1inv_boro</th>\n",
       "      <th>r2inv_boro</th>\n",
       "      <th>r3inv_boro</th>\n",
       "      <th>r4inv_boro</th>\n",
       "      <th>r5inv_boro</th>\n",
       "      <th>r6inv_boro</th>\n",
       "      <th>r7inv_boro</th>\n",
       "      <th>r8inv_boro</th>\n",
       "      <th>r9inv_boro</th>\n",
       "    </tr>\n",
       "  </thead>\n",
       "  <tbody>\n",
       "    <tr>\n",
       "      <th>0</th>\n",
       "      <td>-0.324189</td>\n",
       "      <td>3.365634</td>\n",
       "      <td>0.962071</td>\n",
       "      <td>-0.034088</td>\n",
       "      <td>2.023461</td>\n",
       "      <td>0.745320</td>\n",
       "      <td>-0.041301</td>\n",
       "      <td>1.874086</td>\n",
       "      <td>0.937911</td>\n",
       "      <td>-0.015279</td>\n",
       "      <td>...</td>\n",
       "      <td>0.887478</td>\n",
       "      <td>-0.015678</td>\n",
       "      <td>-0.022354</td>\n",
       "      <td>-0.020917</td>\n",
       "      <td>-0.018898</td>\n",
       "      <td>-0.051015</td>\n",
       "      <td>-0.033996</td>\n",
       "      <td>-0.014258</td>\n",
       "      <td>-0.040323</td>\n",
       "      <td>-0.046264</td>\n",
       "    </tr>\n",
       "    <tr>\n",
       "      <th>1</th>\n",
       "      <td>107.903135</td>\n",
       "      <td>34.685411</td>\n",
       "      <td>12.654552</td>\n",
       "      <td>60.713604</td>\n",
       "      <td>6.996480</td>\n",
       "      <td>2.658471</td>\n",
       "      <td>127.179921</td>\n",
       "      <td>17.407961</td>\n",
       "      <td>8.963675</td>\n",
       "      <td>-0.019486</td>\n",
       "      <td>...</td>\n",
       "      <td>8.549314</td>\n",
       "      <td>-0.017466</td>\n",
       "      <td>-0.022386</td>\n",
       "      <td>-0.020925</td>\n",
       "      <td>-0.019644</td>\n",
       "      <td>-0.051036</td>\n",
       "      <td>-0.034000</td>\n",
       "      <td>-0.015962</td>\n",
       "      <td>-0.040385</td>\n",
       "      <td>-0.046283</td>\n",
       "    </tr>\n",
       "    <tr>\n",
       "      <th>2</th>\n",
       "      <td>0.322241</td>\n",
       "      <td>0.194554</td>\n",
       "      <td>-0.459794</td>\n",
       "      <td>0.738056</td>\n",
       "      <td>0.253399</td>\n",
       "      <td>-0.042992</td>\n",
       "      <td>0.718576</td>\n",
       "      <td>0.301305</td>\n",
       "      <td>-0.038062</td>\n",
       "      <td>-0.019041</td>\n",
       "      <td>...</td>\n",
       "      <td>-0.044240</td>\n",
       "      <td>-0.017277</td>\n",
       "      <td>-0.022189</td>\n",
       "      <td>-0.020469</td>\n",
       "      <td>-0.019548</td>\n",
       "      <td>-0.050851</td>\n",
       "      <td>-0.033701</td>\n",
       "      <td>-0.015782</td>\n",
       "      <td>-0.040014</td>\n",
       "      <td>-0.045241</td>\n",
       "    </tr>\n",
       "    <tr>\n",
       "      <th>3</th>\n",
       "      <td>0.644229</td>\n",
       "      <td>0.513596</td>\n",
       "      <td>-0.446651</td>\n",
       "      <td>1.133208</td>\n",
       "      <td>0.393046</td>\n",
       "      <td>-0.037064</td>\n",
       "      <td>1.097074</td>\n",
       "      <td>0.459542</td>\n",
       "      <td>-0.029041</td>\n",
       "      <td>-0.019179</td>\n",
       "      <td>...</td>\n",
       "      <td>-0.035628</td>\n",
       "      <td>-0.017335</td>\n",
       "      <td>-0.022251</td>\n",
       "      <td>-0.020609</td>\n",
       "      <td>-0.019578</td>\n",
       "      <td>-0.050911</td>\n",
       "      <td>-0.033794</td>\n",
       "      <td>-0.015838</td>\n",
       "      <td>-0.040131</td>\n",
       "      <td>-0.045563</td>\n",
       "    </tr>\n",
       "    <tr>\n",
       "      <th>4</th>\n",
       "      <td>1.542460</td>\n",
       "      <td>1.403606</td>\n",
       "      <td>-0.409988</td>\n",
       "      <td>1.200500</td>\n",
       "      <td>0.416827</td>\n",
       "      <td>-0.036055</td>\n",
       "      <td>2.152944</td>\n",
       "      <td>0.900967</td>\n",
       "      <td>-0.003875</td>\n",
       "      <td>-0.019322</td>\n",
       "      <td>...</td>\n",
       "      <td>-0.011603</td>\n",
       "      <td>-0.017396</td>\n",
       "      <td>-0.022316</td>\n",
       "      <td>-0.020756</td>\n",
       "      <td>-0.019582</td>\n",
       "      <td>-0.050917</td>\n",
       "      <td>-0.033804</td>\n",
       "      <td>-0.015896</td>\n",
       "      <td>-0.040252</td>\n",
       "      <td>-0.045897</td>\n",
       "    </tr>\n",
       "  </tbody>\n",
       "</table>\n",
       "<p>5 rows × 90 columns</p>\n",
       "</div>"
      ],
      "text/plain": [
       "           r1         r2         r3         r4        r5        r6  \\\n",
       "0   -0.324189   3.365634   0.962071  -0.034088  2.023461  0.745320   \n",
       "1  107.903135  34.685411  12.654552  60.713604  6.996480  2.658471   \n",
       "2    0.322241   0.194554  -0.459794   0.738056  0.253399 -0.042992   \n",
       "3    0.644229   0.513596  -0.446651   1.133208  0.393046 -0.037064   \n",
       "4    1.542460   1.403606  -0.409988   1.200500  0.416827 -0.036055   \n",
       "\n",
       "           r7         r8        r9     r1inv  ...   r9_boro  r1inv_boro  \\\n",
       "0   -0.041301   1.874086  0.937911 -0.015279  ...  0.887478   -0.015678   \n",
       "1  127.179921  17.407961  8.963675 -0.019486  ...  8.549314   -0.017466   \n",
       "2    0.718576   0.301305 -0.038062 -0.019041  ... -0.044240   -0.017277   \n",
       "3    1.097074   0.459542 -0.029041 -0.019179  ... -0.035628   -0.017335   \n",
       "4    2.152944   0.900967 -0.003875 -0.019322  ... -0.011603   -0.017396   \n",
       "\n",
       "   r2inv_boro  r3inv_boro  r4inv_boro  r5inv_boro  r6inv_boro  r7inv_boro  \\\n",
       "0   -0.022354   -0.020917   -0.018898   -0.051015   -0.033996   -0.014258   \n",
       "1   -0.022386   -0.020925   -0.019644   -0.051036   -0.034000   -0.015962   \n",
       "2   -0.022189   -0.020469   -0.019548   -0.050851   -0.033701   -0.015782   \n",
       "3   -0.022251   -0.020609   -0.019578   -0.050911   -0.033794   -0.015838   \n",
       "4   -0.022316   -0.020756   -0.019582   -0.050917   -0.033804   -0.015896   \n",
       "\n",
       "   r8inv_boro  r9inv_boro  \n",
       "0   -0.040323   -0.046264  \n",
       "1   -0.040385   -0.046283  \n",
       "2   -0.040014   -0.045241  \n",
       "3   -0.040131   -0.045563  \n",
       "4   -0.040252   -0.045897  \n",
       "\n",
       "[5 rows x 90 columns]"
      ]
     },
     "execution_count": 41,
     "metadata": {},
     "output_type": "execute_result"
    }
   ],
   "source": [
    "#zscale all the data\n",
    "data_zs = (data - data.mean()) / data.std()\n",
    "data_zs_save = data_zs.copy()\n",
    "data_zs.head()"
   ]
  },
  {
   "cell_type": "code",
   "execution_count": 42,
   "id": "add5da62",
   "metadata": {},
   "outputs": [
    {
     "data": {
      "text/plain": [
       "(0.0, 1.0)"
      ]
     },
     "execution_count": 42,
     "metadata": {},
     "output_type": "execute_result"
    },
    {
     "data": {
      "image/png": "[encoded data removed]",
      "text/plain": [
       "<Figure size 432x288 with 1 Axes>"
      ]
     },
     "metadata": {
      "needs_background": "light"
     },
     "output_type": "display_data"
    }
   ],
   "source": [
    "# do a PCA and look at the cumulative variance plot\n",
    "pca = PCA(n_components = .99, svd_solver = 'full')\n",
    "pca.fit(data_zs)\n",
    "plt.plot(np.cumsum(pca.explained_variance_ratio_))\n",
    "plt.xlabel('Number of components minus 1')\n",
    "plt.ylabel('Cumulative explained variance')\n",
    "plt.yticks(np.arange(0.05, 1.1, step=.1))\n",
    "plt.xticks(np.arange(0, 36, step=2))\n",
    "plt.axvline(x=6, linestyle='--')\n",
    "plt.ylim(0,1)"
   ]
  },
  {
   "cell_type": "code",
   "execution_count": 43,
   "id": "85e61eec",
   "metadata": {},
   "outputs": [
    {
     "data": {
      "text/plain": [
       "<matplotlib.lines.Line2D at 0x7fc789394b80>"
      ]
     },
     "execution_count": 43,
     "metadata": {},
     "output_type": "execute_result"
    },
    {
     "data": {
      "image/png": "[encoded data removed]",
      "text/plain": [
       "<Figure size 432x288 with 1 Axes>"
      ]
     },
     "metadata": {
      "needs_background": "light"
     },
     "output_type": "display_data"
    }
   ],
   "source": [
    "plt.plot(pca.explained_variance_ratio_)\n",
    "plt.xlabel('Number of components minus 1')\n",
    "plt.ylabel('PC variance')\n",
    "plt.xticks(np.arange(0, 36, step=2))\n",
    "plt.axvline(x=6, linestyle='--')"
   ]
  },
  {
   "cell_type": "code",
   "execution_count": 44,
   "id": "e1f0ba70",
   "metadata": {},
   "outputs": [
    {
     "data": {
      "text/plain": [
       "7"
      ]
     },
     "execution_count": 44,
     "metadata": {},
     "output_type": "execute_result"
    }
   ],
   "source": [
    "# now redo the PCA but just keep the top few PCs\n",
    "data_zs = data_zs_save.copy()\n",
    "pca = PCA(n_components = 7, svd_solver = 'full')\n",
    "princ_comps = pca.fit_transform(data_zs)\n",
    "pca.n_components_"
   ]
  },
  {
   "cell_type": "code",
   "execution_count": 45,
   "id": "26898d62",
   "metadata": {},
   "outputs": [
    {
     "name": "stdout",
     "output_type": "stream",
     "text": [
      "[0.21987302 0.42074554 0.54728944 0.62168858 0.68089473 0.73854881\n",
      " 0.79441562]\n"
     ]
    }
   ],
   "source": [
    "print(np.cumsum(pca.explained_variance_ratio_))"
   ]
  },
  {
   "cell_type": "code",
   "execution_count": 46,
   "id": "3ef6cb4b",
   "metadata": {},
   "outputs": [
    {
     "data": {
      "text/plain": [
       "(1046826, 7)"
      ]
     },
     "execution_count": 46,
     "metadata": {},
     "output_type": "execute_result"
    }
   ],
   "source": [
    "data_pca = pd.DataFrame(princ_comps, columns = ['PC' + str(i) for i in range(1, pca.n_components_+1)])\n",
    "data_pca.shape"
   ]
  },
  {
   "cell_type": "code",
   "execution_count": 47,
   "id": "cfa3f1a2",
   "metadata": {},
   "outputs": [
    {
     "data": {
      "text/html": [
       "<div>\n",
       "<style scoped>\n",
       "    .dataframe tbody tr th:only-of-type {\n",
       "        vertical-align: middle;\n",
       "    }\n",
       "\n",
       "    .dataframe tbody tr th {\n",
       "        vertical-align: top;\n",
       "    }\n",
       "\n",
       "    .dataframe thead th {\n",
       "        text-align: right;\n",
       "    }\n",
       "</style>\n",
       "<table border=\"1\" class=\"dataframe\">\n",
       "  <thead>\n",
       "    <tr style=\"text-align: right;\">\n",
       "      <th></th>\n",
       "      <th>PC1</th>\n",
       "      <th>PC2</th>\n",
       "      <th>PC3</th>\n",
       "      <th>PC4</th>\n",
       "      <th>PC5</th>\n",
       "      <th>PC6</th>\n",
       "      <th>PC7</th>\n",
       "    </tr>\n",
       "  </thead>\n",
       "  <tbody>\n",
       "    <tr>\n",
       "      <th>0</th>\n",
       "      <td>7.812986</td>\n",
       "      <td>0.782459</td>\n",
       "      <td>-1.692937</td>\n",
       "      <td>0.098349</td>\n",
       "      <td>0.809687</td>\n",
       "      <td>-4.945516</td>\n",
       "      <td>2.719589</td>\n",
       "    </tr>\n",
       "    <tr>\n",
       "      <th>1</th>\n",
       "      <td>118.084854</td>\n",
       "      <td>9.786138</td>\n",
       "      <td>199.378118</td>\n",
       "      <td>0.399513</td>\n",
       "      <td>6.409308</td>\n",
       "      <td>-47.300143</td>\n",
       "      <td>27.856300</td>\n",
       "    </tr>\n",
       "    <tr>\n",
       "      <th>2</th>\n",
       "      <td>0.236833</td>\n",
       "      <td>-0.261303</td>\n",
       "      <td>0.707700</td>\n",
       "      <td>0.005826</td>\n",
       "      <td>0.003594</td>\n",
       "      <td>0.316049</td>\n",
       "      <td>-0.160373</td>\n",
       "    </tr>\n",
       "    <tr>\n",
       "      <th>3</th>\n",
       "      <td>0.834013</td>\n",
       "      <td>-0.204194</td>\n",
       "      <td>1.435032</td>\n",
       "      <td>0.008552</td>\n",
       "      <td>0.035698</td>\n",
       "      <td>0.083755</td>\n",
       "      <td>-0.026838</td>\n",
       "    </tr>\n",
       "    <tr>\n",
       "      <th>4</th>\n",
       "      <td>2.085611</td>\n",
       "      <td>-0.089649</td>\n",
       "      <td>2.951878</td>\n",
       "      <td>0.020970</td>\n",
       "      <td>0.159003</td>\n",
       "      <td>-0.774737</td>\n",
       "      <td>0.453820</td>\n",
       "    </tr>\n",
       "  </tbody>\n",
       "</table>\n",
       "</div>"
      ],
      "text/plain": [
       "          PC1       PC2         PC3       PC4       PC5        PC6        PC7\n",
       "0    7.812986  0.782459   -1.692937  0.098349  0.809687  -4.945516   2.719589\n",
       "1  118.084854  9.786138  199.378118  0.399513  6.409308 -47.300143  27.856300\n",
       "2    0.236833 -0.261303    0.707700  0.005826  0.003594   0.316049  -0.160373\n",
       "3    0.834013 -0.204194    1.435032  0.008552  0.035698   0.083755  -0.026838\n",
       "4    2.085611 -0.089649    2.951878  0.020970  0.159003  -0.774737   0.453820"
      ]
     },
     "execution_count": 47,
     "metadata": {},
     "output_type": "execute_result"
    }
   ],
   "source": [
    "data_pca.head(5)"
   ]
  },
  {
   "cell_type": "code",
   "execution_count": 48,
   "id": "945a494e",
   "metadata": {},
   "outputs": [
    {
     "data": {
      "text/html": [
       "<div>\n",
       "<style scoped>\n",
       "    .dataframe tbody tr th:only-of-type {\n",
       "        vertical-align: middle;\n",
       "    }\n",
       "\n",
       "    .dataframe tbody tr th {\n",
       "        vertical-align: top;\n",
       "    }\n",
       "\n",
       "    .dataframe thead th {\n",
       "        text-align: right;\n",
       "    }\n",
       "</style>\n",
       "<table border=\"1\" class=\"dataframe\">\n",
       "  <thead>\n",
       "    <tr style=\"text-align: right;\">\n",
       "      <th></th>\n",
       "      <th>PC1</th>\n",
       "      <th>PC2</th>\n",
       "      <th>PC3</th>\n",
       "      <th>PC4</th>\n",
       "      <th>PC5</th>\n",
       "      <th>PC6</th>\n",
       "      <th>PC7</th>\n",
       "    </tr>\n",
       "  </thead>\n",
       "  <tbody>\n",
       "    <tr>\n",
       "      <th>count</th>\n",
       "      <td>1.046826e+06</td>\n",
       "      <td>1.046826e+06</td>\n",
       "      <td>1.046826e+06</td>\n",
       "      <td>1.046826e+06</td>\n",
       "      <td>1.046826e+06</td>\n",
       "      <td>1.046826e+06</td>\n",
       "      <td>1.046826e+06</td>\n",
       "    </tr>\n",
       "    <tr>\n",
       "      <th>mean</th>\n",
       "      <td>8.659687e-16</td>\n",
       "      <td>4.714162e-16</td>\n",
       "      <td>-6.381481e-16</td>\n",
       "      <td>-4.941921e-17</td>\n",
       "      <td>-1.272819e-15</td>\n",
       "      <td>4.998369e-16</td>\n",
       "      <td>-1.163669e-16</td>\n",
       "    </tr>\n",
       "    <tr>\n",
       "      <th>std</th>\n",
       "      <td>4.448435e+00</td>\n",
       "      <td>4.251885e+00</td>\n",
       "      <td>3.374752e+00</td>\n",
       "      <td>2.587648e+00</td>\n",
       "      <td>2.308366e+00</td>\n",
       "      <td>2.277909e+00</td>\n",
       "      <td>2.242323e+00</td>\n",
       "    </tr>\n",
       "    <tr>\n",
       "      <th>min</th>\n",
       "      <td>-2.293067e+02</td>\n",
       "      <td>-3.645505e-01</td>\n",
       "      <td>-7.664554e+02</td>\n",
       "      <td>-7.165028e+02</td>\n",
       "      <td>-7.013362e+02</td>\n",
       "      <td>-5.260210e+02</td>\n",
       "      <td>-7.315593e+02</td>\n",
       "    </tr>\n",
       "    <tr>\n",
       "      <th>25%</th>\n",
       "      <td>-4.607729e-01</td>\n",
       "      <td>-2.158022e-01</td>\n",
       "      <td>-5.202718e-01</td>\n",
       "      <td>-6.543507e-03</td>\n",
       "      <td>-4.904047e-02</td>\n",
       "      <td>-3.033607e-01</td>\n",
       "      <td>-2.874438e-01</td>\n",
       "    </tr>\n",
       "    <tr>\n",
       "      <th>50%</th>\n",
       "      <td>-7.852356e-02</td>\n",
       "      <td>-1.900084e-01</td>\n",
       "      <td>-2.034711e-01</td>\n",
       "      <td>6.802326e-03</td>\n",
       "      <td>2.332644e-02</td>\n",
       "      <td>-4.028889e-02</td>\n",
       "      <td>-6.883125e-02</td>\n",
       "    </tr>\n",
       "    <tr>\n",
       "      <th>75%</th>\n",
       "      <td>1.745691e-01</td>\n",
       "      <td>-1.520397e-01</td>\n",
       "      <td>1.047161e-01</td>\n",
       "      <td>2.419782e-02</td>\n",
       "      <td>7.298279e-02</td>\n",
       "      <td>6.243616e-01</td>\n",
       "      <td>8.824867e-02</td>\n",
       "    </tr>\n",
       "    <tr>\n",
       "      <th>max</th>\n",
       "      <td>3.036422e+03</td>\n",
       "      <td>1.683254e+03</td>\n",
       "      <td>1.093464e+03</td>\n",
       "      <td>2.126744e+03</td>\n",
       "      <td>1.020287e+03</td>\n",
       "      <td>1.181004e+03</td>\n",
       "      <td>7.825028e+02</td>\n",
       "    </tr>\n",
       "  </tbody>\n",
       "</table>\n",
       "</div>"
      ],
      "text/plain": [
       "                PC1           PC2           PC3           PC4           PC5  \\\n",
       "count  1.046826e+06  1.046826e+06  1.046826e+06  1.046826e+06  1.046826e+06   \n",
       "mean   8.659687e-16  4.714162e-16 -6.381481e-16 -4.941921e-17 -1.272819e-15   \n",
       "std    4.448435e+00  4.251885e+00  3.374752e+00  2.587648e+00  2.308366e+00   \n",
       "min   -2.293067e+02 -3.645505e-01 -7.664554e+02 -7.165028e+02 -7.013362e+02   \n",
       "25%   -4.607729e-01 -2.158022e-01 -5.202718e-01 -6.543507e-03 -4.904047e-02   \n",
       "50%   -7.852356e-02 -1.900084e-01 -2.034711e-01  6.802326e-03  2.332644e-02   \n",
       "75%    1.745691e-01 -1.520397e-01  1.047161e-01  2.419782e-02  7.298279e-02   \n",
       "max    3.036422e+03  1.683254e+03  1.093464e+03  2.126744e+03  1.020287e+03   \n",
       "\n",
       "                PC6           PC7  \n",
       "count  1.046826e+06  1.046826e+06  \n",
       "mean   4.998369e-16 -1.163669e-16  \n",
       "std    2.277909e+00  2.242323e+00  \n",
       "min   -5.260210e+02 -7.315593e+02  \n",
       "25%   -3.033607e-01 -2.874438e-01  \n",
       "50%   -4.028889e-02 -6.883125e-02  \n",
       "75%    6.243616e-01  8.824867e-02  \n",
       "max    1.181004e+03  7.825028e+02  "
      ]
     },
     "execution_count": 48,
     "metadata": {},
     "output_type": "execute_result"
    }
   ],
   "source": [
    "# zscale the pcs\n",
    "data_pca_zs = (data_pca - data_pca.mean()) / data_pca.std()\n",
    "data_pca.describe()"
   ]
  },
  {
   "cell_type": "code",
   "execution_count": 49,
   "id": "3533e0af",
   "metadata": {},
   "outputs": [
    {
     "data": {
      "text/html": [
       "<div>\n",
       "<style scoped>\n",
       "    .dataframe tbody tr th:only-of-type {\n",
       "        vertical-align: middle;\n",
       "    }\n",
       "\n",
       "    .dataframe tbody tr th {\n",
       "        vertical-align: top;\n",
       "    }\n",
       "\n",
       "    .dataframe thead th {\n",
       "        text-align: right;\n",
       "    }\n",
       "</style>\n",
       "<table border=\"1\" class=\"dataframe\">\n",
       "  <thead>\n",
       "    <tr style=\"text-align: right;\">\n",
       "      <th></th>\n",
       "      <th>PC1</th>\n",
       "      <th>PC2</th>\n",
       "      <th>PC3</th>\n",
       "      <th>PC4</th>\n",
       "      <th>PC5</th>\n",
       "      <th>PC6</th>\n",
       "      <th>PC7</th>\n",
       "    </tr>\n",
       "  </thead>\n",
       "  <tbody>\n",
       "    <tr>\n",
       "      <th>0</th>\n",
       "      <td>1.756345</td>\n",
       "      <td>0.184026</td>\n",
       "      <td>-0.501648</td>\n",
       "      <td>0.038007</td>\n",
       "      <td>0.350762</td>\n",
       "      <td>-2.171078</td>\n",
       "      <td>1.212844</td>\n",
       "    </tr>\n",
       "    <tr>\n",
       "      <th>1</th>\n",
       "      <td>26.545259</td>\n",
       "      <td>2.301600</td>\n",
       "      <td>59.079339</td>\n",
       "      <td>0.154392</td>\n",
       "      <td>2.776556</td>\n",
       "      <td>-20.764725</td>\n",
       "      <td>12.422965</td>\n",
       "    </tr>\n",
       "    <tr>\n",
       "      <th>2</th>\n",
       "      <td>0.053240</td>\n",
       "      <td>-0.061456</td>\n",
       "      <td>0.209704</td>\n",
       "      <td>0.002252</td>\n",
       "      <td>0.001557</td>\n",
       "      <td>0.138745</td>\n",
       "      <td>-0.071521</td>\n",
       "    </tr>\n",
       "    <tr>\n",
       "      <th>3</th>\n",
       "      <td>0.187485</td>\n",
       "      <td>-0.048024</td>\n",
       "      <td>0.425226</td>\n",
       "      <td>0.003305</td>\n",
       "      <td>0.015465</td>\n",
       "      <td>0.036769</td>\n",
       "      <td>-0.011969</td>\n",
       "    </tr>\n",
       "    <tr>\n",
       "      <th>4</th>\n",
       "      <td>0.468842</td>\n",
       "      <td>-0.021084</td>\n",
       "      <td>0.874695</td>\n",
       "      <td>0.008104</td>\n",
       "      <td>0.068881</td>\n",
       "      <td>-0.340109</td>\n",
       "      <td>0.202388</td>\n",
       "    </tr>\n",
       "  </tbody>\n",
       "</table>\n",
       "</div>"
      ],
      "text/plain": [
       "         PC1       PC2        PC3       PC4       PC5        PC6        PC7\n",
       "0   1.756345  0.184026  -0.501648  0.038007  0.350762  -2.171078   1.212844\n",
       "1  26.545259  2.301600  59.079339  0.154392  2.776556 -20.764725  12.422965\n",
       "2   0.053240 -0.061456   0.209704  0.002252  0.001557   0.138745  -0.071521\n",
       "3   0.187485 -0.048024   0.425226  0.003305  0.015465   0.036769  -0.011969\n",
       "4   0.468842 -0.021084   0.874695  0.008104  0.068881  -0.340109   0.202388"
      ]
     },
     "execution_count": 49,
     "metadata": {},
     "output_type": "execute_result"
    }
   ],
   "source": [
    "data_pca_zs.head(5)"
   ]
  },
  {
   "cell_type": "markdown",
   "id": "2b5ba473",
   "metadata": {},
   "source": [
    "# Calculate two unsupervised fraud scores¶"
   ]
  },
  {
   "cell_type": "markdown",
   "id": "093777fb",
   "metadata": {},
   "source": [
    "## score 1"
   ]
  },
  {
   "cell_type": "code",
   "execution_count": 50,
   "id": "2940997c",
   "metadata": {},
   "outputs": [],
   "source": [
    "# Set the powers for the two Minkowski distance. the final results are relatively insensitive to these choices. \n",
    "p1 = 2\n",
    "p2 = 2\n",
    "ntop = 1000"
   ]
  },
  {
   "cell_type": "code",
   "execution_count": 51,
   "id": "cdf6b9e6",
   "metadata": {},
   "outputs": [
    {
     "data": {
      "text/plain": [
       "0     3.111159\n",
       "1    69.235492\n",
       "2     0.273789\n",
       "3     0.469062\n",
       "4     1.070884\n",
       "5     0.428559\n",
       "6     0.284815\n",
       "7     0.295393\n",
       "8     0.764182\n",
       "9     0.733115\n",
       "dtype: float64"
      ]
     },
     "execution_count": 51,
     "metadata": {},
     "output_type": "execute_result"
    }
   ],
   "source": [
    "oop1 = 1/p1\n",
    "score1 = (((data_pca_zs).abs()**p1).sum(axis=1))**oop1\n",
    "score1.head(10)"
   ]
  },
  {
   "cell_type": "code",
   "execution_count": 52,
   "id": "8d5115bb",
   "metadata": {},
   "outputs": [
    {
     "data": {
      "text/plain": [
       "940.8780022137556"
      ]
     },
     "execution_count": 52,
     "metadata": {},
     "output_type": "execute_result"
    }
   ],
   "source": [
    "score1.max()"
   ]
  },
  {
   "cell_type": "code",
   "execution_count": 53,
   "id": "f50ad754",
   "metadata": {},
   "outputs": [
    {
     "data": {
      "text/plain": [
       "(0.1, 2089567.4539268154)"
      ]
     },
     "execution_count": 53,
     "metadata": {},
     "output_type": "execute_result"
    },
    {
     "data": {
      "image/png": "[encoded data removed]",
      "text/plain": [
       "<Figure size 432x288 with 1 Axes>"
      ]
     },
     "metadata": {
      "needs_background": "light"
     },
     "output_type": "display_data"
    }
   ],
   "source": [
    "plt.hist(score1, bins =100, range=(0,1000))\n",
    "plt.yscale('log')\n",
    "plt.ylim(ymin=.1)"
   ]
  },
  {
   "cell_type": "markdown",
   "id": "5f8ff3d6",
   "metadata": {},
   "source": [
    "## Score 2"
   ]
  },
  {
   "cell_type": "code",
   "execution_count": 54,
   "id": "f4e9ee86",
   "metadata": {},
   "outputs": [
    {
     "ename": "NameError",
     "evalue": "name 'MLPRegressor' is not defined",
     "output_type": "error",
     "traceback": [
      "\u001b[0;31m---------------------------------------------------------------------------\u001b[0m",
      "\u001b[0;31mNameError\u001b[0m                                 Traceback (most recent call last)",
      "\u001b[0;32m<ipython-input-54-e22b3edf763f>\u001b[0m in \u001b[0;36m<module>\u001b[0;34m\u001b[0m\n\u001b[0;32m----> 1\u001b[0;31m \u001b[0mNNmodel\u001b[0m \u001b[0;34m=\u001b[0m \u001b[0mMLPRegressor\u001b[0m \u001b[0;34m(\u001b[0m\u001b[0mhidden_layer_sizes\u001b[0m\u001b[0;34m=\u001b[0m\u001b[0;34m(\u001b[0m\u001b[0;36m10\u001b[0m\u001b[0;34m)\u001b[0m\u001b[0;34m,\u001b[0m \u001b[0mactivation\u001b[0m\u001b[0;34m=\u001b[0m\u001b[0;34m'relu'\u001b[0m\u001b[0;34m,\u001b[0m \u001b[0mverbose\u001b[0m\u001b[0;34m=\u001b[0m\u001b[0;32mTrue\u001b[0m\u001b[0;34m,\u001b[0m \u001b[0mmax_iter\u001b[0m\u001b[0;34m=\u001b[0m\u001b[0;36m15\u001b[0m\u001b[0;34m,\u001b[0m \u001b[0mrandom_state\u001b[0m\u001b[0;34m=\u001b[0m\u001b[0;36m1\u001b[0m\u001b[0;34m)\u001b[0m\u001b[0;34m\u001b[0m\u001b[0;34m\u001b[0m\u001b[0m\n\u001b[0m\u001b[1;32m      2\u001b[0m \u001b[0mNNmodel\u001b[0m\u001b[0;34m.\u001b[0m\u001b[0mfit\u001b[0m\u001b[0;34m(\u001b[0m\u001b[0mdata_pca_zs\u001b[0m\u001b[0;34m,\u001b[0m \u001b[0mdata_pca_zs\u001b[0m\u001b[0;34m)\u001b[0m\u001b[0;34m\u001b[0m\u001b[0;34m\u001b[0m\u001b[0m\n",
      "\u001b[0;31mNameError\u001b[0m: name 'MLPRegressor' is not defined"
     ]
    }
   ],
   "source": [
    "NNmodel = MLPRegressor (hidden_layer_sizes=(10), activation='relu', verbose=True, max_iter=15, random_state=1)\n",
    "NNmodel.fit(data_pca_zs, data_pca_zs)"
   ]
  },
  {
   "cell_type": "code",
   "execution_count": null,
   "id": "96a8d75e",
   "metadata": {},
   "outputs": [],
   "source": [
    "# calculate score 2 as the autoencoder error\n",
    "pca_out = NNmodel.predict (data_pca_zs)\n",
    "error = pca_out - data_pca_zs\n",
    "oop2=1/p2\n",
    "score2 = ((error.abs()**p2).sum(axis=1))**oop2"
   ]
  },
  {
   "cell_type": "code",
   "execution_count": null,
   "id": "dc320d76",
   "metadata": {},
   "outputs": [],
   "source": [
    "score2.head(10)"
   ]
  },
  {
   "cell_type": "code",
   "execution_count": null,
   "id": "c2586d57",
   "metadata": {},
   "outputs": [],
   "source": [
    "scores = pd.DataFrame(score1)\n",
    "scores.columns=['score1']\n",
    "scores['score2'] = score2\n",
    "scores['score1 rank'] = scores['score1'].rank()\n",
    "scores['score2 rank'] = scores['score2'].rank()\n",
    "scores['RECORD'] = save_record\n",
    "scores['final'] = (.5*scores['score1 rank'] + .5*scores['score2 rank'])\n",
    "top_records = scores.sort_values(['final'], ascending = False).head(20).index\n",
    "scores.head()"
   ]
  },
  {
   "cell_type": "code",
   "execution_count": null,
   "id": "183ed6c4",
   "metadata": {},
   "outputs": [],
   "source": [
    "scores_sorted = scores.sort_values(by='final',ascending=False)\n",
    "scores_sorted.head(10)"
   ]
  },
  {
   "cell_type": "code",
   "execution_count": null,
   "id": "22d236c7",
   "metadata": {},
   "outputs": [],
   "source": [
    "scores.sort_values(by='final',ascending=False).tail(10)"
   ]
  },
  {
   "cell_type": "code",
   "execution_count": null,
   "id": "bde7167f",
   "metadata": {},
   "outputs": [],
   "source": [
    "scores.describe()"
   ]
  },
  {
   "cell_type": "code",
   "execution_count": null,
   "id": "45a4ea31",
   "metadata": {},
   "outputs": [],
   "source": [
    "scores_sorted.set_index('RECORD', drop=True, inplace=True)\n",
    "scores_sorted.head(10)"
   ]
  },
  {
   "cell_type": "code",
   "execution_count": null,
   "id": "c9a77802",
   "metadata": {},
   "outputs": [],
   "source": [
    "sc1max=int(score1.max() )\n",
    "plt.hist (score1, bins =100, range=(0, sc1max+1))\n",
    "plt.yscale('log')\n",
    "plt.ylim(ymin=.1)"
   ]
  },
  {
   "cell_type": "code",
   "execution_count": null,
   "id": "0d7318c7",
   "metadata": {},
   "outputs": [],
   "source": [
    "sc2max=int(score2.max() )\n",
    "sc2max"
   ]
  },
  {
   "cell_type": "code",
   "execution_count": null,
   "id": "068e105f",
   "metadata": {},
   "outputs": [],
   "source": [
    "sc2max= int(score2.max())\n",
    "print(sc2max)\n",
    "plt.hist (score2, bins =100, range=(0, sc2max+1))\n",
    "plt.yscale('log')\n",
    "plt.ylim(ymin=.1)"
   ]
  },
  {
   "cell_type": "code",
   "execution_count": null,
   "id": "83a51731",
   "metadata": {},
   "outputs": [],
   "source": [
    "sns.distplot(scores['final'])"
   ]
  },
  {
   "cell_type": "code",
   "execution_count": null,
   "id": "2fac3798",
   "metadata": {},
   "outputs": [],
   "source": [
    "top_records = scores_sorted.head(ntop).index\n",
    "print(top_records)"
   ]
  },
  {
   "cell_type": "code",
   "execution_count": null,
   "id": "3e023b27",
   "metadata": {},
   "outputs": [],
   "source": [
    "data_zs['RECORD'] = save_record\n",
    "data_zs.set_index('RECORD', inplace=True, drop=True)\n",
    "data_zs.head()"
   ]
  },
  {
   "cell_type": "code",
   "execution_count": null,
   "id": "2529e89d",
   "metadata": {},
   "outputs": [],
   "source": [
    "data_zs_top_n = data_zs.loc[top_records]\n",
    "data_zs_top_n.transpose()"
   ]
  },
  {
   "cell_type": "code",
   "execution_count": null,
   "id": "9e05779d",
   "metadata": {},
   "outputs": [],
   "source": [
    "scores.set_index('RECORD',inplace=True)\n",
    "scores.drop(columns=['score1','score2'],inplace=True)\n",
    "scores.head(30)"
   ]
  },
  {
   "cell_type": "code",
   "execution_count": null,
   "id": "56fb27ca",
   "metadata": {},
   "outputs": [],
   "source": [
    "NY_data_with_scores = NY_data_orig.join(scores, on='RECORD')\n",
    "NY_data_with_scores.set_index('RECORD',inplace=True)\n",
    "NY_data_with_scores.head(10)"
   ]
  },
  {
   "cell_type": "code",
   "execution_count": null,
   "id": "b02bd826",
   "metadata": {},
   "outputs": [],
   "source": [
    "NY_data_top_n = NY_data_with_scores.sort_values(['final'], ascending = False).head(ntop)\n",
    "NY_data_top_n"
   ]
  },
  {
   "cell_type": "code",
   "execution_count": null,
   "id": "666d98aa",
   "metadata": {},
   "outputs": [],
   "source": [
    "NY_data_top_n['OWNER'].head(40)"
   ]
  },
  {
   "cell_type": "code",
   "execution_count": null,
   "id": "6890c24b",
   "metadata": {},
   "outputs": [],
   "source": [
    "data_zs_top_n.shape"
   ]
  },
  {
   "cell_type": "code",
   "execution_count": null,
   "id": "932c869e",
   "metadata": {},
   "outputs": [],
   "source": [
    "NY_top_with_zs.to_excel('NY_top_with_zs.xlsx', index=True)\n",
    "NY_data_top_n.to_excel('NY_top.xlsx', index=True)\n",
    "data_zs_top_n.to_csv('data_zs_top.csv', index=True)"
   ]
  },
  {
   "cell_type": "code",
   "execution_count": null,
   "id": "c49ec95f",
   "metadata": {},
   "outputs": [],
   "source": [
    "data_zs_top_n.shape"
   ]
  },
  {
   "cell_type": "code",
   "execution_count": null,
   "id": "7ded5d37",
   "metadata": {},
   "outputs": [],
   "source": [
    "# The heatmaps show which variables are driving the high scores\n",
    "data_base_vars = data_zs_top_n.iloc[:,0:17].abs()\n",
    "data_heatmap = data_base_vars.head(20)\n",
    "plt.rcParams['figure.figsize'] = (20,10)\n",
    "ax = sns.heatmap(data_heatmap, center=0, vmin=0, vmax=50, cmap='Reds')\n",
    "ax.xaxis.tick_top()\n",
    "ax.xaxis.set_label_position('top')\n",
    "plt.xticks(rotation=90)\n",
    "plt.savefig('heatmap.png')"
   ]
  },
  {
   "cell_type": "code",
   "execution_count": null,
   "id": "85fc8269",
   "metadata": {},
   "outputs": [],
   "source": [
    "data_zs_top_n_abs = data_zs_top_n.abs()\n",
    "data_heatmap = data_zs_top_n.abs().head(20)\n",
    "plt.rcParams['figure.figsize'] = (20,10)\n",
    "ax = sns.heatmap(data_heatmap, center=0, vmin=0, vmax=50, cmap='Reds')\n",
    "ax.xaxis.tick_top()\n",
    "ax.xaxis.set_label_position('top')\n",
    "plt.xticks(rotation=90)\n",
    "plt.savefig('heatmap.png')"
   ]
  },
  {
   "cell_type": "code",
   "execution_count": null,
   "id": "b597e3b0",
   "metadata": {},
   "outputs": [],
   "source": []
  },
  {
   "cell_type": "code",
   "execution_count": null,
   "id": "e6124494",
   "metadata": {},
   "outputs": [],
   "source": []
  }
 ],
 "metadata": {
  "kernelspec": {
   "display_name": "Python 3",
   "language": "python",
   "name": "python3"
  },
  "language_info": {
   "codemirror_mode": {
    "name": "ipython",
    "version": 3
   },
   "file_extension": ".py",
   "mimetype": "text/x-python",
   "name": "python",
   "nbconvert_exporter": "python",
   "pygments_lexer": "ipython3",
   "version": "3.8.8"
  },
  "toc": {
   "base_numbering": 1,
   "nav_menu": {},
   "number_sections": true,
   "sideBar": true,
   "skip_h1_title": false,
   "title_cell": "Table of Contents",
   "title_sidebar": "Contents",
   "toc_cell": false,
   "toc_position": {},
   "toc_section_display": true,
   "toc_window_display": false
  }
 },
 "nbformat": 4,
 "nbformat_minor": 5
}
